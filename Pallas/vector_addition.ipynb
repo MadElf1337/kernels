{
  "nbformat": 4,
  "nbformat_minor": 0,
  "metadata": {
    "colab": {
      "provenance": [],
      "gpuType": "V28",
      "authorship_tag": "ABX9TyPX3jG13HD4m2GmoMaZRo5W"
    },
    "kernelspec": {
      "name": "python3",
      "display_name": "Python 3"
    },
    "language_info": {
      "name": "python"
    },
    "accelerator": "TPU"
  },
  "cells": [
    {
      "cell_type": "code",
      "execution_count": 1,
      "metadata": {
        "id": "5V-bz1ouMCBB"
      },
      "outputs": [],
      "source": [
        "from functools import partial"
      ]
    },
    {
      "cell_type": "code",
      "source": [
        "import jax\n",
        "from jax.experimental import pallas as pl\n",
        "import jax.numpy as jnp\n",
        "import numpy as np"
      ],
      "metadata": {
        "id": "nIZyxPBEMRAs"
      },
      "execution_count": 2,
      "outputs": []
    },
    {
      "cell_type": "code",
      "source": [
        "def vec_addition_kernel(x_ref, y_ref, o_ref):\n",
        "    x, y = x_ref[...], y_ref[...]\n",
        "    o_ref[...] = x + y"
      ],
      "metadata": {
        "id": "tDOHTXfEMjed"
      },
      "execution_count": 3,
      "outputs": []
    },
    {
      "cell_type": "code",
      "source": [
        "@jax.jit\n",
        "def add_vectors(x: jax.Array, y: jax.Array) -> jax.Array:\n",
        "    return pl.pallas_call(\n",
        "        vec_addition_kernel,\n",
        "        out_shape=jax.ShapeDtypeStruct(x.shape, x.dtype),\n",
        ")(x,y)\n",
        "add_vectors(jnp.arange(8), jnp.arange(8))"
      ],
      "metadata": {
        "colab": {
          "base_uri": "https://localhost:8080/"
        },
        "id": "wZg1t-gIM1mE",
        "outputId": "cf93002c-c4ba-4bd6-9300-68c1813ef7dc"
      },
      "execution_count": 4,
      "outputs": [
        {
          "output_type": "execute_result",
          "data": {
            "text/plain": [
              "Array([ 0,  2,  4,  6,  8, 10, 12, 14], dtype=int32)"
            ]
          },
          "metadata": {},
          "execution_count": 4
        }
      ]
    },
    {
      "cell_type": "code",
      "source": [],
      "metadata": {
        "id": "QrIX5RFXNRnm"
      },
      "execution_count": null,
      "outputs": []
    }
  ]
}
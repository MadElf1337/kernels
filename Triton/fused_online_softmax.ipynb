{
  "nbformat": 4,
  "nbformat_minor": 0,
  "metadata": {
    "colab": {
      "provenance": [],
      "gpuType": "T4",
      "authorship_tag": "ABX9TyMpafjCPtq56gCH81KnLCe5"
    },
    "kernelspec": {
      "name": "python3",
      "display_name": "Python 3"
    },
    "language_info": {
      "name": "python"
    },
    "accelerator": "GPU"
  },
  "cells": [
    {
      "cell_type": "code",
      "execution_count": 1,
      "metadata": {
        "id": "pTuRvRsgazvl"
      },
      "outputs": [],
      "source": [
        "from IPython.display import clear_output\n",
        "!python -m pip install --upgrade triton\n",
        "clear_output()"
      ]
    },
    {
      "cell_type": "code",
      "source": [
        "import torch\n",
        "\n",
        "import triton\n",
        "\n",
        "import triton.language as tl\n",
        "\n",
        "from triton.runtime import driver\n",
        "\n",
        "DEVICE = triton.runtime.driver.active.get_active_torch_device()"
      ],
      "metadata": {
        "id": "hDgk8txzbDCD"
      },
      "execution_count": 2,
      "outputs": []
    },
    {
      "cell_type": "code",
      "source": [
        "def naive_softmax(x):\n",
        "    x_max = x.max(dim=1)[0]\n",
        "\n",
        "    z = x-x_max[:, None]\n",
        "    print(x_max[:, None])\n",
        "\n",
        "    num = torch.exp(z)\n",
        "\n",
        "    denm = num.sum(dim=1)\n",
        "\n",
        "    ret = num/denm[:, None]\n",
        "\n",
        "    return ret"
      ],
      "metadata": {
        "id": "-WZd3fZRbFMV"
      },
      "execution_count": 3,
      "outputs": []
    },
    {
      "cell_type": "code",
      "source": [
        "@triton.jit\n",
        "def _softmax_kernel(output_ptr, input_ptr, input_row_stride, output_row_stride, n_rows, n_cols,\n",
        "                    block_size:tl.constexpr,\n",
        "                    num_stages: tl.constexpr):\n",
        "    row_start = tl.program_id(0)\n",
        "    row_step = tl.num_programs(0)\n",
        "    for row_idx in tl.range(row_start, n_rows, row_step, num_stages=num_stages):\n",
        "        row_start_ptr = input_ptr + row_idx * input_row_stride\n",
        "        row_start_ptr_out = output_ptr + row_idx * output_row_stride\n",
        "\n",
        "        row_max = float('-inf')\n",
        "        row_sum_exp = 0.0\n",
        "\n",
        "        off_ncols = tl.arange(0, block_size)\n",
        "        for block_start in range(tl.cdiv(n_cols, block_size)):\n",
        "            col_offset = block_start * block_size + off_ncols\n",
        "            col_mask = col_offset < n_cols\n",
        "            input_block = tl.load(row_start_ptr + col_offset, mask=col_mask, other=-float('inf'))\n",
        "            block_max = tl.max(input_block, axis=0)\n",
        "            new_max = tl.maximum(row_max, block_max)\n",
        "            row_sum_exp = row_sum_exp * tl.exp(row_max - new_max)\n",
        "            exp_values = tl.exp(input_block - new_max)\n",
        "            exp_values = tl.where(col_mask, exp_values, 0.0)\n",
        "            row_sum_exp += tl.sum(exp_values, axis=0)\n",
        "            row_max = new_max\n",
        "\n",
        "        for block_start in range(0, tl.cdiv(n_cols, block_size)):\n",
        "            col_offsets = block_start * block_size + off_ncols\n",
        "            col_mask = col_offsets < n_cols\n",
        "\n",
        "            input_block = tl.load(row_start_ptr + col_offsets, mask=col_mask, other=0.0)\n",
        "\n",
        "            numerator = tl.exp(input_block - row_max)\n",
        "            softmax_output = numerator / row_sum_exp\n",
        "\n",
        "            tl.store(row_start_ptr_out + col_offsets, softmax_output, mask=col_mask)"
      ],
      "metadata": {
        "id": "X7AVNoyObHTs"
      },
      "execution_count": 14,
      "outputs": []
    },
    {
      "cell_type": "code",
      "source": [
        "properties = driver.active.utils.get_device_properties(DEVICE.index)\n",
        "NUM_SM = properties[\"multiprocessor_count\"]\n",
        "NUM_REGS = properties[\"max_num_regs\"]\n",
        "SIZE_SMEM = properties[\"max_shared_mem\"]\n",
        "WARP_SIZE = properties[\"warpSize\"]\n",
        "target = triton.runtime.driver.active.get_current_target()\n",
        "kernels = {}"
      ],
      "metadata": {
        "id": "9UkNFKP_dpmg"
      },
      "execution_count": 5,
      "outputs": []
    },
    {
      "cell_type": "code",
      "source": [
        "def softmax(x: torch.Tensor):\n",
        "    n_rows, n_cols = x.shape\n",
        "\n",
        "    block_size = triton.next_power_of_2(n_cols)\n",
        "\n",
        "    num_warps = 8\n",
        "\n",
        "    num_stages = 4 if SIZE_SMEM > 200000 else 2\n",
        "\n",
        "    y = torch.empty_like(x)\n",
        "\n",
        "    kernel = _softmax_kernel.warmup(y, x, x.stride(0), y.stride(0), n_rows, n_cols, block_size=block_size, num_stages=num_stages, num_warps=num_warps,\n",
        "                                    grid=(1,))\n",
        "\n",
        "    kernel._init_handles()\n",
        "\n",
        "    n_regs = kernel.n_regs\n",
        "\n",
        "    size_smem = kernel.metadata.shared\n",
        "\n",
        "    occupancy = NUM_REGS // (n_regs * WARP_SIZE * num_warps)\n",
        "    occupancy = min(occupancy, SIZE_SMEM // size_smem)\n",
        "    num_programs = NUM_SM * occupancy\n",
        "\n",
        "    num_programs = min(num_programs, n_rows)\n",
        "\n",
        "    kernel[(num_programs, 1, 1)](y, x, x.stride(0), y.stride(0), n_rows, n_cols, block_size, num_stages)\n",
        "    return y\n"
      ],
      "metadata": {
        "id": "EgLMqKIMdrmy"
      },
      "execution_count": 6,
      "outputs": []
    },
    {
      "cell_type": "code",
      "source": [
        "torch.manual_seed(0)\n",
        "x = torch.randn(1823, 781, device=DEVICE)\n",
        "y_triton = softmax(x)\n",
        "y_torch = torch.softmax(x, axis=1)\n",
        "print(torch.allclose(y_triton, y_torch), (y_triton, y_torch))"
      ],
      "metadata": {
        "colab": {
          "base_uri": "https://localhost:8080/"
        },
        "id": "Bg-dycU6d-Yv",
        "outputId": "e907b210-6f1f-4890-f518-51aae1d565a8"
      },
      "execution_count": 15,
      "outputs": [
        {
          "output_type": "stream",
          "name": "stdout",
          "text": [
            "True (tensor([[3.2747e-04, 5.3954e-04, 5.8687e-05,  ..., 5.5490e-04, 2.0330e-04,\n",
            "         9.4091e-04],\n",
            "        [8.6914e-04, 1.1075e-03, 1.0202e-04,  ..., 1.1470e-04, 5.5436e-04,\n",
            "         8.6046e-04],\n",
            "        [1.4101e-03, 1.0511e-03, 1.7031e-03,  ..., 1.2272e-03, 7.9059e-04,\n",
            "         3.2380e-04],\n",
            "        ...,\n",
            "        [1.0722e-04, 3.6355e-04, 4.1703e-04,  ..., 3.5171e-04, 3.4261e-03,\n",
            "         1.1834e-03],\n",
            "        [6.7911e-04, 8.1645e-04, 6.9066e-04,  ..., 1.4361e-04, 9.6084e-04,\n",
            "         2.5547e-03],\n",
            "        [5.7850e-04, 9.4147e-04, 1.1231e-04,  ..., 3.4419e-03, 3.8817e-03,\n",
            "         1.3192e-03]], device='cuda:0'), tensor([[3.2747e-04, 5.3954e-04, 5.8687e-05,  ..., 5.5490e-04, 2.0330e-04,\n",
            "         9.4091e-04],\n",
            "        [8.6914e-04, 1.1075e-03, 1.0202e-04,  ..., 1.1470e-04, 5.5436e-04,\n",
            "         8.6046e-04],\n",
            "        [1.4101e-03, 1.0511e-03, 1.7031e-03,  ..., 1.2272e-03, 7.9059e-04,\n",
            "         3.2380e-04],\n",
            "        ...,\n",
            "        [1.0722e-04, 3.6355e-04, 4.1703e-04,  ..., 3.5171e-04, 3.4261e-03,\n",
            "         1.1834e-03],\n",
            "        [6.7911e-04, 8.1645e-04, 6.9066e-04,  ..., 1.4361e-04, 9.6083e-04,\n",
            "         2.5547e-03],\n",
            "        [5.7850e-04, 9.4147e-04, 1.1231e-04,  ..., 3.4419e-03, 3.8817e-03,\n",
            "         1.3192e-03]], device='cuda:0'))\n"
          ]
        }
      ]
    },
    {
      "cell_type": "code",
      "source": [
        "#Benchmark code borrowed from Triton Docs\n",
        "\n",
        "@triton.testing.perf_report(\n",
        "    triton.testing.Benchmark(\n",
        "        x_names=['N'],  # argument names to use as an x-axis for the plot\n",
        "        x_vals=[128 * i for i in range(2, 100)],  # different possible values for `x_name`\n",
        "        line_arg='provider',  # argument name whose value corresponds to a different line in the plot\n",
        "        line_vals=['triton', 'torch'],  # possible values for `line_arg``\n",
        "        line_names=[\n",
        "            \"Triton\",\n",
        "            \"Torch\",\n",
        "        ],  # label name for the lines\n",
        "        styles=[('blue', '-'), ('green', '-')],  # line styles\n",
        "        ylabel=\"GB/s\",  # label name for the y-axis\n",
        "        plot_name=\"softmax-performance\",  # name for the plot. Used also as a file name for saving the plot.\n",
        "        args={'M': 4096},  # values for function arguments not in `x_names` and `y_name`\n",
        "    ))\n",
        "def benchmark(M, N, provider):\n",
        "    x = torch.randn(M, N, device=DEVICE, dtype=torch.float32)\n",
        "    stream = getattr(torch, DEVICE.type).Stream()\n",
        "    getattr(torch, DEVICE.type).set_stream(stream)\n",
        "    if provider == 'torch':\n",
        "        ms = triton.testing.do_bench(lambda: torch.softmax(x, axis=-1))\n",
        "    if provider == 'triton':\n",
        "        ms = triton.testing.do_bench(lambda: softmax(x))\n",
        "    gbps = lambda ms: 2 * x.numel() * x.element_size() * 1e-9 / (ms * 1e-3)\n",
        "    return gbps(ms)\n",
        "\n",
        "\n",
        "benchmark.run(show_plots=True, print_data=True)"
      ],
      "metadata": {
        "colab": {
          "base_uri": "https://localhost:8080/",
          "height": 1000
        },
        "id": "Et-j988UeACl",
        "outputId": "03796c60-abaf-4365-c3fe-05ec9b0f73f3"
      },
      "execution_count": 16,
      "outputs": [
        {
          "output_type": "display_data",
          "data": {
            "text/plain": [
              "<Figure size 640x480 with 1 Axes>"
            ],
            "image/png": "[encoded data removed]"
          },
          "metadata": {}
        },
        {
          "output_type": "stream",
          "name": "stdout",
          "text": [
            "softmax-performance:\n",
            "          N      Triton       Torch\n",
            "0     256.0   64.221466  205.688660\n",
            "1     384.0  153.203528  220.962364\n",
            "2     512.0  206.801596  217.914153\n",
            "3     640.0  216.060463  214.799942\n",
            "4     768.0  219.180079  212.802103\n",
            "5     896.0  221.147472  211.436188\n",
            "6    1024.0  220.629782  211.377856\n",
            "7    1152.0  214.854911  142.873486\n",
            "8    1280.0  217.948222  155.352503\n",
            "9    1408.0  218.777550  170.677057\n",
            "10   1536.0  218.853550  180.777390\n",
            "11   1664.0  216.736040  190.332441\n",
            "12   1792.0  216.376049  200.699591\n",
            "13   1920.0  215.171022  209.019196\n",
            "14   2048.0  214.522395  221.206390\n",
            "15   2176.0  212.406132  221.938237\n",
            "16   2304.0  209.960932  231.021415\n",
            "17   2432.0  206.670863  233.953765\n",
            "18   2560.0  206.115395  236.195426\n",
            "19   2688.0  203.782435  239.253357\n",
            "20   2816.0  202.396634  241.644439\n",
            "21   2944.0  201.108184  242.617878\n",
            "22   3072.0  200.744592  243.412932\n",
            "23   3200.0  198.177635  243.686633\n",
            "24   3328.0  195.753460  242.960939\n",
            "25   3456.0  192.640654  242.977516\n",
            "26   3584.0  190.159437  244.020478\n",
            "27   3712.0  188.326759  243.457126\n",
            "28   3840.0  186.355514  243.963565\n",
            "29   3968.0  184.468456  244.054354\n",
            "30   4096.0  181.565521  243.789146\n",
            "31   4224.0  179.151433  173.967427\n",
            "32   4352.0  178.002155  180.765096\n",
            "33   4480.0  176.264102  175.873787\n",
            "34   4608.0  175.094327  174.799957\n",
            "35   4736.0  173.966749  184.424658\n",
            "36   4864.0  173.119674  205.383355\n",
            "37   4992.0  171.858419  221.356383\n",
            "38   5120.0  171.328767  231.329974\n",
            "39   5248.0  170.308399  233.306156\n",
            "40   5376.0  169.475740  239.624663\n",
            "41   5504.0  168.793005  240.777671\n",
            "42   5632.0  168.149593  241.529344\n",
            "43   5760.0  167.433990  241.602426\n",
            "44   5888.0  167.332257  242.366063\n",
            "45   6016.0  166.527940  242.078094\n",
            "46   6144.0  166.347276  242.803863\n",
            "47   6272.0  165.996341  242.181703\n",
            "48   6400.0  165.388807  242.447560\n",
            "49   6528.0  164.921286  242.169433\n",
            "50   6656.0  165.079385  242.585542\n",
            "51   6784.0  164.926609  242.186639\n",
            "52   6912.0  164.609998  242.751076\n",
            "53   7040.0  164.502227  242.002815\n",
            "54   7168.0  164.591315  242.133913\n",
            "55   7296.0  164.170084  192.341064\n",
            "56   7424.0  145.449627  217.662939\n",
            "57   7552.0  163.855105  241.360118\n",
            "58   7680.0  163.339039  241.823814\n",
            "59   7808.0  163.998978  242.325729\n",
            "60   7936.0  163.649735  241.870992\n",
            "61   8064.0  163.325737  240.947727\n",
            "62   8192.0  163.230528  238.152555\n",
            "63   8320.0  179.075366  188.105955\n",
            "64   8448.0  178.871286  192.745934\n",
            "65   8576.0  178.039620  187.142076\n",
            "66   8704.0  178.157854  189.395067\n",
            "67   8832.0  176.727181  186.917189\n",
            "68   8960.0  176.339403  189.208030\n",
            "69   9088.0  175.799780  187.367085\n",
            "70   9216.0  175.652507  189.826959\n",
            "71   9344.0  174.873049  189.490011\n",
            "72   9472.0  174.609433  192.188741\n",
            "73   9600.0  174.038947  191.976566\n",
            "74   9728.0  174.069443  194.896777\n",
            "75   9856.0  173.029961  195.784578\n",
            "76   9984.0  172.771274  198.100394\n",
            "77  10112.0  172.003623  198.000231\n",
            "78  10240.0  171.951175  201.676822\n",
            "79  10368.0  149.379257  195.474970\n",
            "80  10496.0  150.421552  204.816221\n",
            "81  10624.0  170.566538  206.123864\n",
            "82  10752.0  170.485174  204.153990\n",
            "83  10880.0  170.374184  208.706897\n",
            "84  11008.0  169.982173  211.386516\n",
            "85  11136.0  169.260220  212.432663\n",
            "86  11264.0  169.621588  213.846323\n",
            "87  11392.0  169.067687  213.955967\n",
            "88  11520.0  168.452932  217.660462\n",
            "89  11648.0  168.507313  219.037386\n",
            "90  11776.0  168.467407  222.326152\n",
            "91  11904.0  168.118084  221.641268\n",
            "92  12032.0  167.694359  225.967679\n",
            "93  12160.0  167.455723  224.664294\n",
            "94  12288.0  167.099941  205.459754\n",
            "95  12416.0  166.929861  208.035200\n",
            "96  12544.0  166.756187  205.234574\n",
            "97  12672.0  166.436959  141.568055\n"
          ]
        }
      ]
    },
    {
      "cell_type": "code",
      "source": [],
      "metadata": {
        "id": "j4wpejx5ebVa"
      },
      "execution_count": null,
      "outputs": []
    }
  ]
}
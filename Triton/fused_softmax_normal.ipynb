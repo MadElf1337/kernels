{
  "nbformat": 4,
  "nbformat_minor": 0,
  "metadata": {
    "colab": {
      "provenance": [],
      "gpuType": "T4",
      "authorship_tag": "ABX9TyNcq5k9EMzPdt88qDIRPjJ5"
    },
    "kernelspec": {
      "name": "python3",
      "display_name": "Python 3"
    },
    "language_info": {
      "name": "python"
    },
    "accelerator": "GPU"
  },
  "cells": [
    {
      "cell_type": "code",
      "source": [
        "!python -m pip install --upgrade triton"
      ],
      "metadata": {
        "colab": {
          "base_uri": "https://localhost:8080/"
        },
        "id": "d9_lrUbYXq46",
        "outputId": "f3ff9264-3b3c-403e-ff27-db8061b0e5b5"
      },
      "execution_count": 1,
      "outputs": [
        {
          "output_type": "stream",
          "name": "stdout",
          "text": [
            "Requirement already satisfied: triton in /usr/local/lib/python3.11/dist-packages (3.2.0)\n",
            "Collecting triton\n",
            "  Downloading triton-3.3.0-cp311-cp311-manylinux_2_27_x86_64.manylinux_2_28_x86_64.whl.metadata (1.5 kB)\n",
            "Requirement already satisfied: setuptools>=40.8.0 in /usr/local/lib/python3.11/dist-packages (from triton) (75.2.0)\n",
            "Downloading triton-3.3.0-cp311-cp311-manylinux_2_27_x86_64.manylinux_2_28_x86_64.whl (156.5 MB)\n",
            "\u001b[2K   \u001b[90m━━━━━━━━━━━━━━━━━━━━━━━━━━━━━━━━━━━━━━━━\u001b[0m \u001b[32m156.5/156.5 MB\u001b[0m \u001b[31m4.5 MB/s\u001b[0m eta \u001b[36m0:00:00\u001b[0m\n",
            "\u001b[?25hInstalling collected packages: triton\n",
            "  Attempting uninstall: triton\n",
            "    Found existing installation: triton 3.2.0\n",
            "    Uninstalling triton-3.2.0:\n",
            "      Successfully uninstalled triton-3.2.0\n",
            "\u001b[31mERROR: pip's dependency resolver does not currently take into account all the packages that are installed. This behaviour is the source of the following dependency conflicts.\n",
            "torch 2.6.0+cu124 requires nvidia-cublas-cu12==12.4.5.8; platform_system == \"Linux\" and platform_machine == \"x86_64\", but you have nvidia-cublas-cu12 12.5.3.2 which is incompatible.\n",
            "torch 2.6.0+cu124 requires nvidia-cuda-cupti-cu12==12.4.127; platform_system == \"Linux\" and platform_machine == \"x86_64\", but you have nvidia-cuda-cupti-cu12 12.5.82 which is incompatible.\n",
            "torch 2.6.0+cu124 requires nvidia-cuda-nvrtc-cu12==12.4.127; platform_system == \"Linux\" and platform_machine == \"x86_64\", but you have nvidia-cuda-nvrtc-cu12 12.5.82 which is incompatible.\n",
            "torch 2.6.0+cu124 requires nvidia-cuda-runtime-cu12==12.4.127; platform_system == \"Linux\" and platform_machine == \"x86_64\", but you have nvidia-cuda-runtime-cu12 12.5.82 which is incompatible.\n",
            "torch 2.6.0+cu124 requires nvidia-cudnn-cu12==9.1.0.70; platform_system == \"Linux\" and platform_machine == \"x86_64\", but you have nvidia-cudnn-cu12 9.3.0.75 which is incompatible.\n",
            "torch 2.6.0+cu124 requires nvidia-cufft-cu12==11.2.1.3; platform_system == \"Linux\" and platform_machine == \"x86_64\", but you have nvidia-cufft-cu12 11.2.3.61 which is incompatible.\n",
            "torch 2.6.0+cu124 requires nvidia-curand-cu12==10.3.5.147; platform_system == \"Linux\" and platform_machine == \"x86_64\", but you have nvidia-curand-cu12 10.3.6.82 which is incompatible.\n",
            "torch 2.6.0+cu124 requires nvidia-cusolver-cu12==11.6.1.9; platform_system == \"Linux\" and platform_machine == \"x86_64\", but you have nvidia-cusolver-cu12 11.6.3.83 which is incompatible.\n",
            "torch 2.6.0+cu124 requires nvidia-cusparse-cu12==12.3.1.170; platform_system == \"Linux\" and platform_machine == \"x86_64\", but you have nvidia-cusparse-cu12 12.5.1.3 which is incompatible.\n",
            "torch 2.6.0+cu124 requires nvidia-nvjitlink-cu12==12.4.127; platform_system == \"Linux\" and platform_machine == \"x86_64\", but you have nvidia-nvjitlink-cu12 12.5.82 which is incompatible.\n",
            "torch 2.6.0+cu124 requires triton==3.2.0; platform_system == \"Linux\" and platform_machine == \"x86_64\", but you have triton 3.3.0 which is incompatible.\u001b[0m\u001b[31m\n",
            "\u001b[0mSuccessfully installed triton-3.3.0\n"
          ]
        }
      ]
    },
    {
      "cell_type": "code",
      "execution_count": 2,
      "metadata": {
        "id": "O5AFUV4YLmIT"
      },
      "outputs": [],
      "source": [
        "import torch\n",
        "\n",
        "import triton\n",
        "\n",
        "import triton.language as tl\n",
        "\n",
        "from triton.runtime import driver\n",
        "\n",
        "DEVICE = triton.runtime.driver.active.get_active_torch_device()"
      ]
    },
    {
      "cell_type": "code",
      "source": [
        "def naive_softmax(x):\n",
        "    x_max = x.max(dim=1)[0]\n",
        "\n",
        "    z = x-x_max[:, None]\n",
        "    print(x_max[:, None])\n",
        "\n",
        "    num = torch.exp(z)\n",
        "\n",
        "    denm = num.sum(dim=1)\n",
        "\n",
        "    ret = num/denm[:, None]\n",
        "\n",
        "    return ret"
      ],
      "metadata": {
        "id": "YLXBMmHKLxQb"
      },
      "execution_count": null,
      "outputs": []
    },
    {
      "cell_type": "code",
      "source": [
        "@triton.jit\n",
        "def _softmax_kernel(output_ptr, input_ptr, input_row_stride, output_row_stride, n_rows, n_cols,\n",
        "                    block_size:tl.constexpr,\n",
        "                    num_stages: tl.constexpr):\n",
        "    row_start = tl.program_id(0)\n",
        "    row_step = tl.num_programs(0)\n",
        "    for row_idx in tl.range(row_start, n_rows, row_step, num_stages=num_stages):\n",
        "        row_start_ptr = input_ptr + row_idx * input_row_stride\n",
        "        col_offset = tl.arange(0, block_size)\n",
        "        input_ptrs = row_start_ptr + col_offset\n",
        "\n",
        "        mask = col_offset < n_cols\n",
        "        rows = tl.load(input_ptrs, mask=mask, other=float('-inf'))\n",
        "\n",
        "        row_stable = rows-tl.max(rows, axis=0)\n",
        "\n",
        "        num = tl.exp(row_stable)\n",
        "        denm = tl.sum(num, axis=0)\n",
        "\n",
        "        output = num/denm\n",
        "\n",
        "        output_row_start_ptr = output_ptr + row_idx * output_row_stride\n",
        "        output_ptrs = output_row_start_ptr + col_offset\n",
        "        tl.store(output_ptrs, output, mask=mask)"
      ],
      "metadata": {
        "id": "mcoXdH_rPCQk"
      },
      "execution_count": 3,
      "outputs": []
    },
    {
      "cell_type": "code",
      "source": [
        "properties = driver.active.utils.get_device_properties(DEVICE.index)\n",
        "NUM_SM = properties[\"multiprocessor_count\"]\n",
        "NUM_REGS = properties[\"max_num_regs\"]\n",
        "SIZE_SMEM = properties[\"max_shared_mem\"]\n",
        "WARP_SIZE = properties[\"warpSize\"]\n",
        "target = triton.runtime.driver.active.get_current_target()\n",
        "kernels = {}"
      ],
      "metadata": {
        "id": "csqual1uYPgK"
      },
      "execution_count": 4,
      "outputs": []
    },
    {
      "cell_type": "code",
      "source": [
        "def softmax(x: torch.Tensor):\n",
        "    n_rows, n_cols = x.shape\n",
        "\n",
        "    block_size = triton.next_power_of_2(n_cols)\n",
        "\n",
        "    num_warps = 8\n",
        "\n",
        "    num_stages = 4 if SIZE_SMEM > 200000 else 2\n",
        "\n",
        "    y = torch.empty_like(x)\n",
        "\n",
        "    kernel = _softmax_kernel.warmup(y, x, x.stride(0), y.stride(0), n_rows, n_cols, block_size=block_size, num_stages=num_stages, num_warps=num_warps,\n",
        "                                    grid=(1,))\n",
        "\n",
        "    kernel._init_handles()\n",
        "\n",
        "    n_regs = kernel.n_regs\n",
        "\n",
        "    size_smem = kernel.metadata.shared\n",
        "\n",
        "    occupancy = NUM_REGS // (n_regs * WARP_SIZE * num_warps)\n",
        "    occupancy = min(occupancy, SIZE_SMEM // size_smem)\n",
        "    num_programs = NUM_SM * occupancy\n",
        "\n",
        "    num_programs = min(num_programs, n_rows)\n",
        "\n",
        "    kernel[(num_programs, 1, 1)](y, x, x.stride(0), y.stride(0), n_rows, n_cols, block_size, num_stages)\n",
        "    return y\n"
      ],
      "metadata": {
        "id": "TAnBgnuYYgpl"
      },
      "execution_count": 9,
      "outputs": []
    },
    {
      "cell_type": "code",
      "source": [
        "torch.manual_seed(0)\n",
        "x = torch.randn(1823, 781, device=DEVICE)\n",
        "y_triton = softmax(x)\n",
        "y_torch = torch.softmax(x, axis=1)\n",
        "print(torch.allclose(y_triton, y_torch), (y_triton, y_torch))"
      ],
      "metadata": {
        "colab": {
          "base_uri": "https://localhost:8080/"
        },
        "id": "PUS4B4-ZYoU4",
        "outputId": "086adc72-b25c-482b-8edb-d3794f52ec24"
      },
      "execution_count": 11,
      "outputs": [
        {
          "output_type": "stream",
          "name": "stdout",
          "text": [
            "True (tensor([[3.2747e-04, 5.3954e-04, 5.8687e-05,  ..., 5.5490e-04, 2.0330e-04,\n",
            "         9.4091e-04],\n",
            "        [8.6914e-04, 1.1075e-03, 1.0202e-04,  ..., 1.1470e-04, 5.5436e-04,\n",
            "         8.6046e-04],\n",
            "        [1.4101e-03, 1.0511e-03, 1.7031e-03,  ..., 1.2272e-03, 7.9059e-04,\n",
            "         3.2380e-04],\n",
            "        ...,\n",
            "        [1.0722e-04, 3.6355e-04, 4.1703e-04,  ..., 3.5171e-04, 3.4261e-03,\n",
            "         1.1834e-03],\n",
            "        [6.7911e-04, 8.1645e-04, 6.9066e-04,  ..., 1.4361e-04, 9.6084e-04,\n",
            "         2.5547e-03],\n",
            "        [5.7850e-04, 9.4147e-04, 1.1231e-04,  ..., 3.4419e-03, 3.8817e-03,\n",
            "         1.3192e-03]], device='cuda:0'), tensor([[3.2747e-04, 5.3954e-04, 5.8687e-05,  ..., 5.5490e-04, 2.0330e-04,\n",
            "         9.4091e-04],\n",
            "        [8.6914e-04, 1.1075e-03, 1.0202e-04,  ..., 1.1470e-04, 5.5436e-04,\n",
            "         8.6046e-04],\n",
            "        [1.4101e-03, 1.0511e-03, 1.7031e-03,  ..., 1.2272e-03, 7.9059e-04,\n",
            "         3.2380e-04],\n",
            "        ...,\n",
            "        [1.0722e-04, 3.6355e-04, 4.1703e-04,  ..., 3.5171e-04, 3.4261e-03,\n",
            "         1.1834e-03],\n",
            "        [6.7911e-04, 8.1645e-04, 6.9066e-04,  ..., 1.4361e-04, 9.6083e-04,\n",
            "         2.5547e-03],\n",
            "        [5.7850e-04, 9.4147e-04, 1.1231e-04,  ..., 3.4419e-03, 3.8817e-03,\n",
            "         1.3192e-03]], device='cuda:0'))\n"
          ]
        }
      ]
    },
    {
      "cell_type": "code",
      "source": [
        "#Benchmark code borrowed from Triton Docs\n",
        "\n",
        "@triton.testing.perf_report(\n",
        "    triton.testing.Benchmark(\n",
        "        x_names=['N'],  # argument names to use as an x-axis for the plot\n",
        "        x_vals=[128 * i for i in range(2, 100)],  # different possible values for `x_name`\n",
        "        line_arg='provider',  # argument name whose value corresponds to a different line in the plot\n",
        "        line_vals=['triton', 'torch'],  # possible values for `line_arg``\n",
        "        line_names=[\n",
        "            \"Triton\",\n",
        "            \"Torch\",\n",
        "        ],  # label name for the lines\n",
        "        styles=[('blue', '-'), ('green', '-')],  # line styles\n",
        "        ylabel=\"GB/s\",  # label name for the y-axis\n",
        "        plot_name=\"softmax-performance\",  # name for the plot. Used also as a file name for saving the plot.\n",
        "        args={'M': 4096},  # values for function arguments not in `x_names` and `y_name`\n",
        "    ))\n",
        "def benchmark(M, N, provider):\n",
        "    x = torch.randn(M, N, device=DEVICE, dtype=torch.float32)\n",
        "    stream = getattr(torch, DEVICE.type).Stream()\n",
        "    getattr(torch, DEVICE.type).set_stream(stream)\n",
        "    if provider == 'torch':\n",
        "        ms = triton.testing.do_bench(lambda: torch.softmax(x, axis=-1))\n",
        "    if provider == 'triton':\n",
        "        ms = triton.testing.do_bench(lambda: softmax(x))\n",
        "    gbps = lambda ms: 2 * x.numel() * x.element_size() * 1e-9 / (ms * 1e-3)\n",
        "    return gbps(ms)\n",
        "\n",
        "\n",
        "benchmark.run(show_plots=True, print_data=True)"
      ],
      "metadata": {
        "colab": {
          "base_uri": "https://localhost:8080/",
          "height": 1000
        },
        "id": "-ErA7yt2Ypkc",
        "outputId": "7c2f7127-c7a8-46da-f80b-61552f048a8f"
      },
      "execution_count": 12,
      "outputs": [
        {
          "output_type": "display_data",
          "data": {
            "text/plain": [
              "<Figure size 640x480 with 1 Axes>"
            ],
            "image/png": "[encoded data removed]"
          },
          "metadata": {}
        },
        {
          "output_type": "stream",
          "name": "stdout",
          "text": [
            "softmax-performance:\n",
            "          N      Triton       Torch\n",
            "0     256.0   82.743992  207.116020\n",
            "1     384.0  150.470105  213.271810\n",
            "2     512.0  219.214493  217.909681\n",
            "3     640.0  215.934990  213.101812\n",
            "4     768.0  219.171573  213.063760\n",
            "5     896.0  219.972864  213.633046\n",
            "6    1024.0  220.332316  211.656876\n",
            "7    1152.0  224.575083  142.005537\n",
            "8    1280.0  224.856683  155.308043\n",
            "9    1408.0  225.046862  167.733821\n",
            "10   1536.0  225.202008  178.206291\n",
            "11   1664.0  226.023359  187.774737\n",
            "12   1792.0  225.835391  199.020976\n",
            "13   1920.0  225.797487  208.059728\n",
            "14   2048.0  225.394839  216.719641\n",
            "15   2176.0  223.691176  222.111645\n",
            "16   2304.0  224.568447  226.377149\n",
            "17   2432.0  224.876234  234.234902\n",
            "18   2560.0  224.639857  233.994782\n",
            "19   2688.0  225.084674  239.394920\n",
            "20   2816.0  225.777748  241.997302\n",
            "21   2944.0  224.609556  242.445016\n",
            "22   3072.0  224.643912  243.454967\n",
            "23   3200.0  224.235722  243.414814\n",
            "24   3328.0  226.349397  243.633871\n",
            "25   3456.0  225.012731  243.653827\n",
            "26   3584.0  225.474385  243.748416\n",
            "27   3712.0  224.562187  244.535741\n",
            "28   3840.0  226.280381  244.105677\n",
            "29   3968.0  225.247938  243.685954\n",
            "30   4096.0  226.197240  244.023174\n",
            "31   4224.0  225.018399  172.796030\n",
            "32   4352.0  225.815055  179.399453\n",
            "33   4480.0  224.771656  173.848720\n",
            "34   4608.0  224.597435  174.518856\n",
            "35   4736.0  224.865411  181.225122\n",
            "36   4864.0  225.575678  198.571862\n",
            "37   4992.0  224.435566  212.992167\n",
            "38   5120.0  224.461639  225.742949\n",
            "39   5248.0  224.693352  230.636301\n",
            "40   5376.0  224.455042  238.179270\n",
            "41   5504.0  224.994557  241.194586\n",
            "42   5632.0  227.319714  242.197430\n",
            "43   5760.0  225.458236  240.938473\n",
            "44   5888.0  226.824643  242.512865\n",
            "45   6016.0  225.920413  242.341122\n",
            "46   6144.0  227.263667  243.082486\n",
            "47   6272.0  226.370028  242.735099\n",
            "48   6400.0  226.509195  242.460374\n",
            "49   6528.0  226.422681  242.225843\n",
            "50   6656.0  227.316894  242.453223\n",
            "51   6784.0  227.652340  242.448490\n",
            "52   6912.0  228.271584  242.779423\n",
            "53   7040.0  226.540748  242.655348\n",
            "54   7168.0  227.919531  242.569591\n",
            "55   7296.0  226.681931  191.106149\n",
            "56   7424.0  198.595987  225.341904\n",
            "57   7552.0  227.331638  241.769771\n",
            "58   7680.0  228.627548  241.542731\n",
            "59   7808.0  228.190838  243.362940\n",
            "60   7936.0  228.661029  242.339828\n",
            "61   8064.0  227.142868  241.273815\n",
            "62   8192.0  228.874091  239.028267\n",
            "63   8320.0  226.401862  187.366001\n",
            "64   8448.0  227.299313  192.062483\n",
            "65   8576.0  226.513514  186.204971\n",
            "66   8704.0  227.212590  188.399732\n",
            "67   8832.0  226.193953  185.774054\n",
            "68   8960.0  227.015045  188.456284\n",
            "69   9088.0  225.862113  186.753570\n",
            "70   9216.0  226.442099  189.033636\n",
            "71   9344.0  225.469389  188.244549\n",
            "72   9472.0  226.358224  190.766527\n",
            "73   9600.0  226.141233  191.259535\n",
            "74   9728.0  227.332918  193.497716\n",
            "75   9856.0  226.305046  194.517354\n",
            "76   9984.0  226.961983  196.609729\n",
            "77  10112.0  225.042820  196.589266\n",
            "78  10240.0  226.645112  200.756966\n",
            "79  10368.0  198.033352  196.098349\n",
            "80  10496.0  199.267623  204.663505\n",
            "81  10624.0  226.328270  204.068769\n",
            "82  10752.0  226.899800  203.226657\n",
            "83  10880.0  227.306784  206.559225\n",
            "84  11008.0  227.596779  211.973585\n",
            "85  11136.0  226.878454  210.610819\n",
            "86  11264.0  227.402023  212.659512\n",
            "87  11392.0  227.229321  212.465883\n",
            "88  11520.0  227.962001  216.326709\n",
            "89  11648.0  227.152032  216.974462\n",
            "90  11776.0  227.925576  218.863937\n",
            "91  11904.0  227.347716  219.260362\n",
            "92  12032.0  227.968547  225.048344\n",
            "93  12160.0  227.159594  224.796349\n",
            "94  12288.0  228.354771  209.094100\n",
            "95  12416.0  227.618581  215.407517\n",
            "96  12544.0  228.389032  209.365109\n",
            "97  12672.0  227.619544  145.011810\n"
          ]
        }
      ]
    },
    {
      "cell_type": "code",
      "source": [],
      "metadata": {
        "id": "VtamXMhLZF_I"
      },
      "execution_count": null,
      "outputs": []
    }
  ]
}
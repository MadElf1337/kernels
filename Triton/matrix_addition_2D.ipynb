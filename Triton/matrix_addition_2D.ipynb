{
  "nbformat": 4,
  "nbformat_minor": 0,
  "metadata": {
    "colab": {
      "provenance": [],
      "gpuType": "T4",
      "authorship_tag": "ABX9TyNJNghhSDIRxZr9EThXCJmS"
    },
    "kernelspec": {
      "name": "python3",
      "display_name": "Python 3"
    },
    "language_info": {
      "name": "python"
    },
    "accelerator": "GPU"
  },
  "cells": [
    {
      "cell_type": "code",
      "source": [
        "from IPython.display import clear_output\n",
        "!pip install --upgrade triton\n",
        "clear_output()"
      ],
      "metadata": {
        "id": "2g0IZV9XXN82"
      },
      "execution_count": 1,
      "outputs": []
    },
    {
      "cell_type": "code",
      "execution_count": 2,
      "metadata": {
        "id": "H3XcqDlSbawa"
      },
      "outputs": [],
      "source": [
        "import triton\n",
        "import triton.language as tl\n",
        "import torch"
      ]
    },
    {
      "cell_type": "code",
      "source": [
        "@triton.jit\n",
        "def __add__(x_ptr, y_ptr, out_ptr, size_x, size_y, BLOCK_SIZE: tl.constexpr):\n",
        "    pid_0 = tl.program_id(0)\n",
        "    pid_1 = tl.program_id(1)\n",
        "\n",
        "    row_indices = (pid_0*BLOCK_SIZE + tl.arange(0, BLOCK_SIZE))[:, None]\n",
        "    col_indices = (pid_1*BLOCK_SIZE + tl.arange(0, BLOCK_SIZE))[None, :]\n",
        "\n",
        "    row_mask = row_indices < size_y\n",
        "    col_mask = col_indices < size_x\n",
        "\n",
        "    val_mask = row_mask & col_mask\n",
        "\n",
        "    flat_index = row_indices * size_x + col_indices\n",
        "\n",
        "    x = tl.load(x_ptr + flat_index, mask=val_mask, other=0.0)\n",
        "    y = tl.load(y_ptr + flat_index, mask=val_mask, other=0.0)\n",
        "\n",
        "    out = x + y\n",
        "\n",
        "    tl.store(out_ptr + flat_index, out, mask=val_mask)\n"
      ],
      "metadata": {
        "id": "UrnxPehY-NqY"
      },
      "execution_count": 6,
      "outputs": []
    },
    {
      "cell_type": "code",
      "source": [
        "def test_addMatrix():\n",
        "    sizeX = 8\n",
        "    sizeY = 8\n",
        "    BLOCK_SIZE = 2\n",
        "\n",
        "    x = torch.randn(sizeY, sizeX, device='cuda', dtype=torch.float32)\n",
        "    y = torch.randn(sizeY, sizeX, device='cuda', dtype=torch.float32)\n",
        "    out = torch.zeros_like(x, device='cuda', dtype=torch.float32)\n",
        "\n",
        "    x_flat = x.flatten()\n",
        "    y_flat = y.flatten()\n",
        "    out_flat = out.flatten()\n",
        "\n",
        "    grid = (triton.cdiv(sizeX, BLOCK_SIZE), triton.cdiv(sizeY, BLOCK_SIZE))\n",
        "    __add__[grid](x_flat, y_flat, out_flat, sizeX, sizeY, BLOCK_SIZE)\n",
        "\n",
        "    out = out_flat.reshape(sizeY, sizeX)\n",
        "\n",
        "    expected = x + y\n",
        "    print(\"Matrix A:\\n\", x)\n",
        "    print(\"Matrix B:\\n\", y)\n",
        "    print(\"Matrix C (Triton):\\n\", out)\n",
        "    print(\"Expected (PyTorch):\\n\", expected)\n",
        "    assert torch.allclose(out, expected), \"Triton result does not match PyTorch result!\"\n",
        "\n",
        "test_addMatrix()"
      ],
      "metadata": {
        "colab": {
          "base_uri": "https://localhost:8080/"
        },
        "id": "gV6x9aSLXTd8",
        "outputId": "6117ba8b-7662-459d-8341-f3be2c49dcf3"
      },
      "execution_count": 10,
      "outputs": [
        {
          "output_type": "stream",
          "name": "stdout",
          "text": [
            "Matrix A:\n",
            " tensor([[-0.8801, -0.2961,  1.4796, -0.5410,  0.2491, -0.4705,  1.9539, -0.9597],\n",
            "        [-2.0555,  1.2980, -0.9776,  0.8391, -0.0563,  0.6079, -0.4813, -0.7989],\n",
            "        [-1.3494, -0.4939, -0.6455,  0.4303, -0.5407, -0.2800, -0.3566,  0.9767],\n",
            "        [ 0.8018,  0.1906,  0.9631, -0.0593,  0.0785, -1.8621, -0.8929, -1.3323],\n",
            "        [ 0.8464, -0.1313,  0.2787, -1.1805, -0.7900, -1.1620,  0.2588,  0.4047],\n",
            "        [-1.3724, -1.1831,  1.7337, -0.2776,  0.3643,  2.0978,  0.7107, -0.3782],\n",
            "        [-0.0148, -1.2617,  1.1113, -0.6828, -0.2707,  0.3632,  0.4519, -1.1577],\n",
            "        [ 0.8871,  1.0357, -0.8301, -0.7055, -1.1847, -0.3851, -0.2040, -0.3510]],\n",
            "       device='cuda:0')\n",
            "Matrix B:\n",
            " tensor([[-0.0107,  1.4539,  0.7185, -0.2708, -0.3393,  0.5407,  0.2321,  0.9470],\n",
            "        [ 1.2506, -0.0601, -1.9298,  0.8016, -0.2933, -0.4981,  0.5054,  1.9880],\n",
            "        [-1.4856, -0.2434,  0.4407,  0.1842,  1.8926,  2.1400, -0.0332, -0.9954],\n",
            "        [ 0.7496, -0.3823, -0.1183, -0.3345, -0.6519, -0.4791, -0.4989,  0.2016],\n",
            "        [ 0.8162, -1.0217,  0.9886,  1.3341, -1.4918,  0.1867,  0.5184,  0.6063],\n",
            "        [-0.8585,  0.4457,  0.2887, -0.3765, -0.0458, -0.4370, -0.4458,  2.6619],\n",
            "        [-1.7767, -0.5235,  0.7898,  0.2111,  0.1402, -0.0417, -0.4148,  0.2006],\n",
            "        [ 1.2700, -1.1981, -0.3216, -0.6146,  1.7969, -0.2795, -0.6655,  0.6268]],\n",
            "       device='cuda:0')\n",
            "Matrix C (Triton):\n",
            " tensor([[-0.8908,  1.1578,  2.1981, -0.8118, -0.0902,  0.0702,  2.1860, -0.0128],\n",
            "        [-0.8048,  1.2378, -2.9074,  1.6407, -0.3495,  0.1098,  0.0241,  1.1891],\n",
            "        [-2.8350, -0.7372, -0.2048,  0.6145,  1.3519,  1.8599, -0.3898, -0.0187],\n",
            "        [ 1.5514, -0.1917,  0.8448, -0.3938, -0.5734, -2.3412, -1.3918, -1.1306],\n",
            "        [ 1.6626, -1.1530,  1.2673,  0.1536, -2.2818, -0.9753,  0.7772,  1.0109],\n",
            "        [-2.2309, -0.7374,  2.0225, -0.6541,  0.3185,  1.6608,  0.2650,  2.2837],\n",
            "        [-1.7914, -1.7851,  1.9011, -0.4717, -0.1305,  0.3215,  0.0371, -0.9571],\n",
            "        [ 2.1571, -0.1624, -1.1517, -1.3201,  0.6122, -0.6646, -0.8695,  0.2759]],\n",
            "       device='cuda:0')\n",
            "Expected (PyTorch):\n",
            " tensor([[-0.8908,  1.1578,  2.1981, -0.8118, -0.0902,  0.0702,  2.1860, -0.0128],\n",
            "        [-0.8048,  1.2378, -2.9074,  1.6407, -0.3495,  0.1098,  0.0241,  1.1891],\n",
            "        [-2.8350, -0.7372, -0.2048,  0.6145,  1.3519,  1.8599, -0.3898, -0.0187],\n",
            "        [ 1.5514, -0.1917,  0.8448, -0.3938, -0.5734, -2.3412, -1.3918, -1.1306],\n",
            "        [ 1.6626, -1.1530,  1.2673,  0.1536, -2.2818, -0.9753,  0.7772,  1.0109],\n",
            "        [-2.2309, -0.7374,  2.0225, -0.6541,  0.3185,  1.6608,  0.2650,  2.2837],\n",
            "        [-1.7914, -1.7851,  1.9011, -0.4717, -0.1305,  0.3215,  0.0371, -0.9571],\n",
            "        [ 2.1571, -0.1624, -1.1517, -1.3201,  0.6122, -0.6646, -0.8695,  0.2759]],\n",
            "       device='cuda:0')\n"
          ]
        }
      ]
    },
    {
      "cell_type": "code",
      "source": [],
      "metadata": {
        "id": "DZKjAQ2eYwb1"
      },
      "execution_count": null,
      "outputs": []
    }
  ]
}
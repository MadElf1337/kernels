{
  "nbformat": 4,
  "nbformat_minor": 0,
  "metadata": {
    "colab": {
      "provenance": [],
      "gpuType": "T4",
      "authorship_tag": "ABX9TyNiGMUfsN/UyJgKPRTwpS7H"
    },
    "kernelspec": {
      "name": "python3",
      "display_name": "Python 3"
    },
    "language_info": {
      "name": "python"
    },
    "accelerator": "GPU"
  },
  "cells": [
    {
      "cell_type": "code",
      "execution_count": 3,
      "metadata": {
        "id": "Y2q5nhUAO7ib"
      },
      "outputs": [],
      "source": [
        "import torch\n",
        "import triton\n",
        "import triton.language as tl"
      ]
    },
    {
      "cell_type": "code",
      "source": [
        "DEVICE = \"cuda\""
      ],
      "metadata": {
        "id": "q6-LYKi7PD93"
      },
      "execution_count": 7,
      "outputs": []
    },
    {
      "cell_type": "code",
      "source": [
        "@triton.jit\n",
        "def _add_(\n",
        "    x_ptr,\n",
        "    y_ptr,\n",
        "    output_ptr,\n",
        "    n_elements,\n",
        "    block_size: tl.constexpr,\n",
        "):\n",
        "    pid = tl.program_id(0)\n",
        "\n",
        "    block_start = pid * block_size\n",
        "    offsets = block_start + tl.arange(0, block_size)\n",
        "    mask = offsets < n_elements\n",
        "\n",
        "    x = tl.load(x_ptr + offsets, mask=mask)\n",
        "    y = tl.load(y_ptr + offsets, mask=mask)\n",
        "    output = x+y\n",
        "\n",
        "    tl.store(output_ptr + offsets, output, mask=mask)"
      ],
      "metadata": {
        "id": "baqVJ15bPITZ"
      },
      "execution_count": 11,
      "outputs": []
    },
    {
      "cell_type": "code",
      "source": [
        "def add(\n",
        "    x:torch.Tensor,\n",
        "    y:torch.Tensor,\n",
        "):\n",
        "    output = torch.empty_like(x)\n",
        "    assert x.is_cuda and y.is_cuda and output.is_cuda\n",
        "\n",
        "    n_elements = output.numel()\n",
        "\n",
        "    grid = lambda meta: (\n",
        "        triton.cdiv(n_elements, meta['block_size']),\n",
        "    )\n",
        "\n",
        "    _add_[grid](\n",
        "        x,\n",
        "        y,\n",
        "        output,\n",
        "        n_elements,\n",
        "        block_size=1024,\n",
        "    )\n",
        "\n",
        "    return output"
      ],
      "metadata": {
        "id": "BIIzBWjhQFs_"
      },
      "execution_count": 14,
      "outputs": []
    },
    {
      "cell_type": "code",
      "source": [
        "torch.manual_seed(0)\n",
        "size = 8192\n",
        "x = torch.rand(size, device=DEVICE)\n",
        "y = torch.rand(size, device=DEVICE)\n",
        "output_torch = x+y\n",
        "output_triton = add(x, y)\n",
        "assert torch.allclose(output_torch, output_triton)\n",
        "print(output_torch)\n",
        "print(output_triton)\n",
        "print(f'The maximum difference between torch and triton is '\n",
        "      f'{torch.max(torch.abs(output_torch - output_triton))}')\n"
      ],
      "metadata": {
        "colab": {
          "base_uri": "https://localhost:8080/"
        },
        "id": "TWD7fZdTQkXq",
        "outputId": "94fc221f-564e-4e77-a167-83476fe806d1"
      },
      "execution_count": 15,
      "outputs": [
        {
          "output_type": "stream",
          "name": "stdout",
          "text": [
            "tensor([1.3713, 1.3076, 0.4940,  ..., 0.2920, 1.5087, 0.9388], device='cuda:0')\n",
            "tensor([1.3713, 1.3076, 0.4940,  ..., 0.2920, 1.5087, 0.9388], device='cuda:0')\n",
            "The maximum difference between torch and triton is 0.0\n"
          ]
        }
      ]
    }
  ]
}